{
 "cells": [
  {
   "cell_type": "markdown",
   "id": "68af471b-2729-42db-900e-3455f8c3e760",
   "metadata": {},
   "source": [
    "## Atv06"
   ]
  },
  {
   "cell_type": "markdown",
   "id": "37d78c78-a46d-4c42-97b9-b985c0834b1c",
   "metadata": {},
   "source": [
    "Dados os valores de um depósito fixo mensal e um montante desejado, exiba abaixo o trecho do código em java para determinar quantos meses serão necessários para acumular o montante desejado, considerando juros mensais de 0,5%."
   ]
  },
  {
   "cell_type": "code",
   "execution_count": 1,
   "id": "6cf7a206-6753-47ee-a7d7-927ec7dfe53f",
   "metadata": {
    "tags": []
   },
   "outputs": [
    {
     "name": "stdout",
     "output_type": "stream",
     "text": [
      "Valor do depósito mensal: "
     ]
    },
    {
     "name": "stdin",
     "output_type": "stream",
     "text": [
      " 400\n"
     ]
    },
    {
     "name": "stdout",
     "output_type": "stream",
     "text": [
      "Valor do montante desejado: "
     ]
    },
    {
     "name": "stdin",
     "output_type": "stream",
     "text": [
      " 1000000\n"
     ]
    },
    {
     "name": "stdout",
     "output_type": "stream",
     "text": [
      "Considerando taxa de juros mensais de 0.5%, demorarão 522 meses para se atingir o montante desejado\n"
     ]
    }
   ],
   "source": [
    "// importação da biblioteca que será usada no programa para receber as entradas do usuário\n",
    "import java.util.Scanner;\n",
    "\n",
    "// declaração das variáveis que serão utilizadas na parte de receber as entradas\n",
    "// do usuário\n",
    "// valor do deposito mensal, valor do montante desejado\n",
    "Double depositoMensal = null, montanteDesejado = null;\n",
    "// instanciando um objeto da classe Scanner\n",
    "Scanner scan = new Scanner(System.in);\n",
    "\n",
    "// estrutura de repetição do-while para receber o valor do depósito mensal com\n",
    "// os devidos tratamentos de erros para as entradas inválidas\n",
    "do {\n",
    "    // estrutura try-catch para tratar os erros\n",
    "    // erros: entradas não numericas, zero e negativas\n",
    "    try {\n",
    "        // recebe a entrada e aloca na variável \"depositoMensal\"\n",
    "        System.out.print(\"Valor do depósito mensal: \");\n",
    "        depositoMensal = scan.nextDouble();\n",
    "        // se for 0 ou negativo chama um erro genérico\n",
    "        if (depositoMensal <= 0) {\n",
    "            throw new Exception();\n",
    "        }\n",
    "        // caso um erro aconteça na execução do try, cai nese bloco\n",
    "    } catch (Exception e) {\n",
    "        // printa uma mensagem de erro\n",
    "        System.out.println(\"Entrada inválida\");\n",
    "        // pula linha para receber o próximo valor\n",
    "        scan.nextLine();\n",
    "    }\n",
    "    // só sai desse loop se receber uma entrada válida\n",
    "} while (depositoMensal == null || depositoMensal <= 0);\n",
    "// estrutura de repetição do-while para receber o valor do montante desejado com\n",
    "// os devidos tratamentos de erros para as entradas inválidas\n",
    "do {\n",
    "    // estrutura try-catch para tratar os erros\n",
    "    // erros: entradas não numericas, zero e negativas\n",
    "    try {\n",
    "        // recebe a entrada e aloca na variável \"montanteDesejado\"\n",
    "        System.out.print(\"Valor do montante desejado: \");\n",
    "        montanteDesejado = scan.nextDouble();\n",
    "        // se for 0 ou negativo chama um erro genérico\n",
    "        if (montanteDesejado <= 0) {\n",
    "            throw new Exception();\n",
    "        }\n",
    "        // caso um erro aconteça na execução do try, cai nese bloco\n",
    "    } catch (Exception e) {\n",
    "        // printa uma mensagem de erro\n",
    "        System.out.println(\"Entrada inválida\");\n",
    "        // pula linha para receber o próximo valor\n",
    "        scan.nextLine();\n",
    "    }\n",
    "    // só sai desse loop se receber uma entrada válida\n",
    "} while (montanteDesejado == null || montanteDesejado <= 0);\n",
    "// declaração das variáveis que serão utilizadas para calcular a quantidade de\n",
    "// meses necessários para se atingir o montante desejado a partir da taxa de\n",
    "// juros e do depósito mensal\n",
    "int numeroDeDepositos = 0;\n",
    "double taxaDeJuros = 0.005, montanteFinal = 0;\n",
    "// cálculo:\n",
    "// calculei o valor do montante acumulado mes a mes\n",
    "// cada vez que o cálculo é realizado uma variável contadora é acrescida\n",
    "// quando o valor acumulado ultrapassa o valor desejado a estrutura de repetição\n",
    "// para e o valor da variável contadora representará o número de depósitos\n",
    "// realizados, ou seja, a quantidade de meses necessários\n",
    "do {\n",
    "    numeroDeDepositos++;\n",
    "    montanteFinal = montanteFinal * (1 + taxaDeJuros) + depositoMensal;\n",
    "} while (montanteFinal < montanteDesejado);\n",
    "// print do resultado\n",
    "System.out.println(\"Considerando taxa de juros mensais de \" + taxaDeJuros * 100 + \"%, demorarão \" + numeroDeDepositos + \" meses para se atingir o montante desejado\");\n",
    "// fecha a instancia da classe Scanner\n",
    "scan.close();"
   ]
  }
 ],
 "metadata": {
  "kernelspec": {
   "display_name": "Java",
   "language": "java",
   "name": "java"
  },
  "language_info": {
   "codemirror_mode": "java",
   "file_extension": ".jshell",
   "mimetype": "text/x-java-source",
   "name": "Java",
   "pygments_lexer": "java",
   "version": "17.0.6+10"
  }
 },
 "nbformat": 4,
 "nbformat_minor": 5
}
